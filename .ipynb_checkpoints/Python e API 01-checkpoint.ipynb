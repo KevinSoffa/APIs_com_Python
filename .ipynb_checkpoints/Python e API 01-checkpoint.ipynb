{
 "cells": [
  {
   "cell_type": "markdown",
   "metadata": {},
   "source": [
    "# Python e API\n",
    "\n",
    "### Link para pegar API das cotações\n",
    "\n",
    "https://docs.awesomeapi.com.br/api-de-moedas"
   ]
  },
  {
   "cell_type": "markdown",
   "metadata": {},
   "source": [
    "#### Pegar a Cotação Atual de Todas as Moedas "
   ]
  },
  {
   "cell_type": "code",
   "execution_count": 5,
   "metadata": {},
   "outputs": [
    {
     "name": "stdout",
     "output_type": "stream",
     "text": [
      "{'USD': {'code': 'USD', 'codein': 'BRL', 'name': 'Dólar Americano/Real Brasileiro', 'high': '5.2299', 'low': '5.1781', 'varBid': '-0.0168', 'pctChange': '-0.32', 'bid': '5.1829', 'ask': '5.1848', 'timestamp': '1627308193', 'create_date': '2021-07-26 11:03:15'}, 'USDT': {'code': 'USD', 'codein': 'BRLT', 'name': 'Dólar Americano/Real Brasileiro Turismo', 'high': '5.455', 'low': '5.455', 'varBid': '0', 'pctChange': '0', 'bid': '5.29', 'ask': '5.62', 'timestamp': '1626987602', 'create_date': '2021-07-22 21:00:03'}, 'CAD': {'code': 'CAD', 'codein': 'BRL', 'name': 'Dólar Canadense/Real Brasileiro', 'high': '4.1603', 'low': '4.1259', 'varBid': '-0.0099', 'pctChange': '-0.24', 'bid': '4.1283', 'ask': '4.1304', 'timestamp': '1627308192', 'create_date': '2021-07-26 11:03:12'}, 'GBP': {'code': 'GBP', 'codein': 'BRL', 'name': 'Libra Esterlina/Real Brasileiro', 'high': '7.2062', 'low': '7.1454', 'varBid': '0.013', 'pctChange': '0.18', 'bid': '7.1602', 'ask': '7.1644', 'timestamp': '1627308193', 'create_date': '2021-07-26 11:03:15'}, 'ARS': {'code': 'ARS', 'codein': 'BRL', 'name': 'Peso Argentino/Real Brasileiro', 'high': '0.0543', 'low': '0.0537', 'varBid': '-0.0002', 'pctChange': '-0.37', 'bid': '0.0537', 'ask': '0.0537', 'timestamp': '1627308193', 'create_date': '2021-07-26 11:03:15'}, 'BTC': {'code': 'BTC', 'codein': 'BRL', 'name': 'Bitcoin/Real Brasileiro', 'high': '201.792', 'low': '176.38', 'varBid': '20850', 'pctChange': '11.74', 'bid': '198.5', 'ask': '198.5', 'timestamp': '1627308196', 'create_date': '2021-07-26 11:03:16'}, 'LTC': {'code': 'LTC', 'codein': 'BRL', 'name': 'Litecoin/Real Brasileiro', 'high': '719', 'low': '641.82', 'varBid': '67.66', 'pctChange': '10.54', 'bid': '709.77', 'ask': '713.14', 'timestamp': '1627308161', 'create_date': '2021-07-26 11:02:41'}, 'EUR': {'code': 'EUR', 'codein': 'BRL', 'name': 'Euro/Real Brasileiro', 'high': '6.161', 'low': '6.1129', 'varBid': '-0.0026', 'pctChange': '-0.04', 'bid': '6.1169', 'ask': '6.1212', 'timestamp': '1627308193', 'create_date': '2021-07-26 11:03:16'}, 'JPY': {'code': 'JPY', 'codein': 'BRL', 'name': 'Iene Japonês/Real Brasileiro', 'high': '0.04738', 'low': '0.04688', 'varBid': '0', 'pctChange': '0', 'bid': '0.04698', 'ask': '0.04699', 'timestamp': '1627308196', 'create_date': '2021-07-26 11:03:16'}, 'CHF': {'code': 'CHF', 'codein': 'BRL', 'name': 'Franco Suíço/Real Brasileiro', 'high': '5.6887', 'low': '5.6468', 'varBid': '-0.0069', 'pctChange': '-0.12', 'bid': '5.6477', 'ask': '5.6516', 'timestamp': '1627308193', 'create_date': '2021-07-26 11:03:15'}, 'AUD': {'code': 'AUD', 'codein': 'BRL', 'name': 'Dólar Australiano/Real Brasileiro', 'high': '3.847', 'low': '3.8133', 'varBid': '-0.003', 'pctChange': '-0.08', 'bid': '3.8219', 'ask': '3.8253', 'timestamp': '1627308193', 'create_date': '2021-07-26 11:03:15'}, 'CNY': {'code': 'CNY', 'codein': 'BRL', 'name': 'Yuan Chinês/Real Brasileiro', 'high': '0.8059', 'low': '0.7988', 'varBid': '-0.0027', 'pctChange': '-0.34', 'bid': '0.7993', 'ask': '0.7996', 'timestamp': '1627308184', 'create_date': '2021-07-26 11:03:04'}, 'ILS': {'code': 'ILS', 'codein': 'BRL', 'name': 'Novo Shekel Israelense/Real Brasileiro', 'high': '1.6001', 'low': '1.5878', 'varBid': '-0.0002', 'pctChange': '-0.01', 'bid': '1.589', 'ask': '1.5896', 'timestamp': '1627308186', 'create_date': '2021-07-26 11:03:06'}, 'ETH': {'code': 'ETH', 'codein': 'BRL', 'name': 'Ethereum/Real Brasileiro', 'high': '1200.21', 'low': '1200.21', 'varBid': '0', 'pctChange': '0', 'bid': '1440.25', 'ask': '16999.75', 'timestamp': '1610415652', 'create_date': '2021-01-11 22:40:52'}, 'XRP': {'code': 'XRP', 'codein': 'BRL', 'name': 'XRP/Real Brasileiro', 'high': '3.43', 'low': '3.06', 'varBid': '0.3', 'pctChange': '9.68', 'bid': '3.39', 'ask': '3.39', 'timestamp': '1627308188', 'create_date': '2021-07-26 11:03:08'}, 'DOGE': {'code': 'DOGE', 'codein': 'BRL', 'name': 'Dogecoin/Real Brasileiro', 'high': '1.2', 'low': '1.01', 'varBid': '0.12000002', 'pctChange': '11.76', 'bid': '1.14', 'ask': '1.14', 'timestamp': '1627306899', 'create_date': '2021-07-26 10:41:39'}}\n"
     ]
    }
   ],
   "source": [
    "import requests\n",
    "import json\n",
    "\n",
    "cotacoes = requests.get('https://economia.awesomeapi.com.br/json/all')\n",
    "cotacoes_dict = cotacoes.json()\n",
    "print(cotacoes_dict)"
   ]
  },
  {
   "cell_type": "markdown",
   "metadata": {},
   "source": [
    "#### Qual foi a última cotação do Dólar, do Euro e do BitCoin? "
   ]
  },
  {
   "cell_type": "code",
   "execution_count": 14,
   "metadata": {},
   "outputs": [
    {
     "name": "stdout",
     "output_type": "stream",
     "text": [
      "Cotação do Dólar; 5.1822\n",
      "=-=-=-=-=-=-=-=-=-=-=-=-=-=-=-=-=-=-=-=-=-=-=-=-=-=-=-=-=-=-=-=-=-=-=-=-=-=-=-=-=-=-=-=-=-=-=-=-=-=-\n",
      "Cotação do Euto; 6.0947\n",
      "=-=-=-=-=-=-=-=-=-=-=-=-=-=-=-=-=-=-=-=-=-=-=-=-=-=-=-=-=-=-=-=-=-=-=-=-=-=-=-=-=-=-=-=-=-=-=-=-=-=-\n",
      "Cotação do BitCoin; 169.569\n"
     ]
    }
   ],
   "source": [
    "print('Cotação do Dólar; {}'.format(cotacoes_dict['USD']['bid']))\n",
    "print('=-'*50)\n",
    "print('Cotação do Euto; {}'.format(cotacoes_dict['EUR']['bid']))\n",
    "print('=-'*50)\n",
    "print('Cotação do BitCoin; {}'.format(cotacoes_dict['BTC']['bid']))"
   ]
  },
  {
   "cell_type": "markdown",
   "metadata": {},
   "source": [
    "#### Pegar a cotação dos últimos 30 dias do dólar (Sua resposta vai dar diferente do gabarito, porque estamos rodando o código em momentos diferentes, mas o seu código deve ser o mesmo/parecido)"
   ]
  },
  {
   "cell_type": "code",
   "execution_count": 21,
   "metadata": {},
   "outputs": [
    {
     "name": "stdout",
     "output_type": "stream",
     "text": [
      "[5.6753, 5.7125, 5.7729, 5.6211, 5.5214, 5.5067, 5.49, 5.5602, 5.5832, 5.6244, 5.6156, 5.5518, 5.5357, 5.672, 5.8025, 5.8755, 5.6908, 5.6693, 5.6193, 5.6761, 5.6418, 5.5976, 5.5308, 5.4409, 5.4659, 5.3823, 5.427, 5.4105, 5.3695, 5.3708]\n"
     ]
    }
   ],
   "source": [
    "cotacao_30d = requests.get('https://economia.awesomeapi.com.br/json/daily/USD-BRL/30')\n",
    "cotacao_30d_dict = cotacao_30d.json()\n",
    "#print(cotacao_30d_dict)\n",
    "#print(cotacao_30d_dict[0])\n",
    "lista_dolar = [float(item['bid'])for item in cotacao_30d_dict ]\n",
    "print(lista_dolar)"
   ]
  },
  {
   "cell_type": "markdown",
   "metadata": {},
   "source": [
    "#### Pegar as cotações do BitCoin de Jan/20 a Out/20"
   ]
  },
  {
   "cell_type": "code",
   "execution_count": 10,
   "metadata": {},
   "outputs": [
    {
     "name": "stdout",
     "output_type": "stream",
     "text": [
      "[163.855, 163.234, 163.203, 163.11, 163.1, 163.1, 163.1, 163.1, 163.0, 163.0, 163.0, 163.0, 163.109, 163.109, 163.109, 163.109, 163.715, 163.733, 163.921, 164.35, 163.92, 163.92, 163.92, 163.92, 163.92, 163.92, 163.92, 164.0, 164.0, 164.0, 164.0, 164.0, 164.0, 164.0, 164.0, 164.0, 164.0, 164.0, 164.0, 164.0, 164.0, 164.35, 164.0, 164.0, 164.0, 164.0, 164.0, 164.0, 164.0, 164.0, 164.24, 164.24, 164.24, 164.24, 164.1, 164.1, 164.1, 164.3, 164.1, 164.1, 164.1, 164.1, 164.2, 164.1, 164.2, 164.2, 164.2, 164.2, 164.1, 164.202, 164.202, 164.202, 164.5, 164.202, 164.202, 164.202, 164.5, 164.201, 164.201, 164.201, 164.5, 164.5, 164.5, 164.5, 164.5, 164.5, 164.5, 164.5, 164.5, 164.2, 164.2, 164.1, 164.1, 164.1, 164.1, 164.1, 164.1, 164.0, 164.2, 164.0]\n",
      "100\n"
     ]
    }
   ],
   "source": [
    "cotacoes_bitcon = requests.get('https://economia.awesomeapi.com.br/BTC-BRL/100?start_date=20210110&end_date=20210715')\n",
    "cotacoes_bitcon_dic = cotacoes_bitcon.json()\n",
    "lista_cotacoes_bitcon = [float(item['bid']) for item in cotacoes_bitcon_dic]\n",
    "print(lista_cotacoes_bitcon)\n",
    "print(len(lista_cotacoes_bitcon))"
   ]
  },
  {
   "cell_type": "markdown",
   "metadata": {},
   "source": [
    "#### Gráfico com as cotações do BitCoin"
   ]
  },
  {
   "cell_type": "code",
   "execution_count": 14,
   "metadata": {},
   "outputs": [
    {
     "data": {
      "image/png": "[encoded data removed]",
      "text/plain": [
       "<Figure size 1080x360 with 1 Axes>"
      ]
     },
     "metadata": {
      "needs_background": "light"
     },
     "output_type": "display_data"
    }
   ],
   "source": [
    "import matplotlib.pyplot as plt\n",
    "\n",
    "plt.figure(figsize=(15, 5))\n",
    "plt.plot(lista_cotacoes_bitcon, linestyle = 'dotted')\n",
    "plt.show()"
   ]
  },
  {
   "cell_type": "code",
   "execution_count": null,
   "metadata": {},
   "outputs": [],
   "source": []
  }
 ],
 "metadata": {
  "kernelspec": {
   "display_name": "Python 3",
   "language": "python",
   "name": "python3"
  },
  "language_info": {
   "codemirror_mode": {
    "name": "ipython",
    "version": 3
   },
   "file_extension": ".py",
   "mimetype": "text/x-python",
   "name": "python",
   "nbconvert_exporter": "python",
   "pygments_lexer": "ipython3",
   "version": "3.8.8"
  }
 },
 "nbformat": 4,
 "nbformat_minor": 4
}
